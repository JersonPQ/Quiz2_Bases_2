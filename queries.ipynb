{
 "cells": [
  {
   "cell_type": "code",
   "execution_count": null,
   "metadata": {},
   "outputs": [],
   "source": [
    "from pymongo import MongoClient\n",
    "\n",
    "client = MongoClient('localhost', 27017, username='root', password='example')\n",
    "\n",
    "db = client['quiz']\n",
    "\n",
    "users_collecition = db['users']"
   ]
  },
  {
   "cell_type": "code",
   "execution_count": null,
   "metadata": {},
   "outputs": [],
   "source": [
    "from itertools import islice\n",
    "import json\n",
    "from datetime import datetime\n",
    "\n",
    "with open ('data.jsonl', 'r') as f:\n",
    "    for line in islice(f, 40):\n",
    "        data = json.loads(line)\n",
    "        data['post']['timestamp'] = datetime.fromisoformat(data['post']['timestamp'])\n",
    "        for comment in data['comments']:\n",
    "            comment['comment']['timestamp'] = datetime.fromisoformat(comment['comment']['timestamp'])\n",
    "        \n",
    "        users_collecition.insert_one(data)\n"
   ]
  },
  {
   "cell_type": "markdown",
   "metadata": {},
   "source": [
    "1. Operaciones CRUD básicas (Crear, Leer, Actualizar, Eliminar)"
   ]
  },
  {
   "cell_type": "code",
   "execution_count": 3,
   "metadata": {},
   "outputs": [
    {
     "data": {
      "text/plain": [
       "InsertOneResult(ObjectId('65f1098b4da40f1600c11cd6'), acknowledged=True)"
      ]
     },
     "execution_count": 3,
     "metadata": {},
     "output_type": "execute_result"
    }
   ],
   "source": [
    "# 1. Insertar 5 nuevos documentos de usuario con datos únicos.\n",
    "doc1 = {\"user\": \"Jerson\", \"user_age\": 21, \"user_email\": \"jerson@gmail.com\"}\n",
    "doc2 = {\"user\": \"Carlos\", \"user_age\": 22, \"user_email\": \"carlos@gmail.com\"}\n",
    "doc3 = {\"user\": \"Luis\", \"user_age\": 23, \"user_email\": \"luis@gmail.com\"}\n",
    "doc4 = {\"user\": \"Pedro\", \"user_age\": 24, \"user_email\": \"pedro@gmail.com\"}\n",
    "doc5 = {\"user\": \"Maria\", \"user_age\": 35, \"user_email\": \"maria@gmail.com\"}\n",
    "\n",
    "# insertar documentos a la colección\n",
    "users_collecition.insert_one(doc1)\n",
    "users_collecition.insert_one(doc2)\n",
    "users_collecition.insert_one(doc3)\n",
    "users_collecition.insert_one(doc4)\n",
    "users_collecition.insert_one(doc5)"
   ]
  },
  {
   "cell_type": "code",
   "execution_count": null,
   "metadata": {},
   "outputs": [],
   "source": [
    "# 2. Buscar todos los usuarios con edad mayor a 25.\n"
   ]
  },
  {
   "cell_type": "code",
   "execution_count": 41,
   "metadata": {},
   "outputs": [
    {
     "name": "stdout",
     "output_type": "stream",
     "text": [
      "Usuario encontrado:\n",
      "{'_id': ObjectId('65f1098b4da40f1600c11cd2'), 'user': 'Jerson', 'user_age': 21, 'user_email': 'jerson@gmail.com'}\n"
     ]
    }
   ],
   "source": [
    "# 3. Buscar un usuario por dirección de correo electrónico.\n",
    "email_to_find = \"jerson@gmail.com\"\n",
    "\n",
    "query = {\"user_email\": email_to_find}\n",
    "result = users_collecition.find_one(query)\n",
    "if result:\n",
    "    print(\"Usuario encontrado:\")\n",
    "    print(result)\n",
    "else:\n",
    "    print(\"No se encontró ningún usuario con ese correo electrónico.\")\n"
   ]
  },
  {
   "cell_type": "code",
   "execution_count": null,
   "metadata": {},
   "outputs": [],
   "source": [
    "# 4. Actualizar el contenido de la publicación de un usuario específico."
   ]
  },
  {
   "cell_type": "code",
   "execution_count": null,
   "metadata": {},
   "outputs": [],
   "source": [
    "# 5. Eliminar un documento de usuario y todos sus comentarios asociados."
   ]
  },
  {
   "cell_type": "markdown",
   "metadata": {},
   "source": [
    "2. Consultas con operadores"
   ]
  },
  {
   "cell_type": "code",
   "execution_count": null,
   "metadata": {},
   "outputs": [],
   "source": [
    "# 1. Buscar todos los usuarios cuyo nombre de usuario contenga la palabra S̈mith.̈ (Expresiones regulares)"
   ]
  },
  {
   "cell_type": "code",
   "execution_count": null,
   "metadata": {},
   "outputs": [],
   "source": [
    "# 2. Buscar publicaciones creadas después de una fecha específica (por ejemplo, 2000-01-01).\n",
    "from datetime import datetime\n",
    "fecha_especifica = datetime(2014, 1, 1)\n",
    "query = {\"post.timestamp\": {\"$gt\": fecha_especifica}}\n",
    "result = users_collecition.find(query)\n",
    "\n",
    "print(\"Publicaciones creadas después de\", fecha_especifica)\n",
    "for post in result:\n",
    "    print(post)\n"
   ]
  },
  {
   "cell_type": "code",
   "execution_count": null,
   "metadata": {},
   "outputs": [],
   "source": [
    "# 3. Buscar usuarios que aún no han publicado ningún comentario"
   ]
  },
  {
   "cell_type": "code",
   "execution_count": 34,
   "metadata": {},
   "outputs": [
    {
     "name": "stdout",
     "output_type": "stream",
     "text": [
      "Edad promedio de todos los usuarios: 28.1\n"
     ]
    }
   ],
   "source": [
    "# 4. Encontrar la edad promedio de todos los usuarios.\n",
    "pipeline = [\n",
    "    {\n",
    "        \"$group\": {\n",
    "            \"_id\": None,\n",
    "            \"total_users\": {\"$sum\": 1},\n",
    "            \"total_age\": {\"$sum\": \"$user_age\"}\n",
    "        }\n",
    "    },\n",
    "    {\n",
    "        \"$project\": {\n",
    "            \"_id\": 0,\n",
    "            \"average_age\": {\"$divide\": [\"$total_age\", \"$total_users\"]}\n",
    "        }\n",
    "    }\n",
    "]\n",
    "\n",
    "result = users_collecition.aggregate(pipeline)\n",
    "\n",
    "average_age = list(result)[0][\"average_age\"]\n",
    "print(\"Edad promedio de todos los usuarios:\", average_age)\n"
   ]
  },
  {
   "cell_type": "code",
   "execution_count": null,
   "metadata": {},
   "outputs": [],
   "source": [
    "# 5. Buscar documentos donde la longitud del contenido de la publicación sea superior a 100 caracteres"
   ]
  },
  {
   "cell_type": "markdown",
   "metadata": {},
   "source": [
    "3. Operadores lógicos y proyección"
   ]
  },
  {
   "cell_type": "code",
   "execution_count": null,
   "metadata": {},
   "outputs": [],
   "source": [
    "# 1. Buscar usuarios que tengan más de 20 años pero menos de 30. (Combinar operadores)"
   ]
  },
  {
   "cell_type": "code",
   "execution_count": null,
   "metadata": {},
   "outputs": [],
   "source": [
    "# 2. Recuperar solo el nombre de usuario y la edad del usuario de todos los documentos. (Proyección)"
   ]
  },
  {
   "cell_type": "code",
   "execution_count": null,
   "metadata": {},
   "outputs": [],
   "source": [
    "# 3. Buscar todas las publicaciones y excluir el campo ”comentarios”"
   ]
  },
  {
   "cell_type": "code",
   "execution_count": null,
   "metadata": {},
   "outputs": [],
   "source": [
    "# 4. Buscar usuarios con al menos un comentario en su matriz ”comentarios”"
   ]
  },
  {
   "cell_type": "code",
   "execution_count": null,
   "metadata": {},
   "outputs": [],
   "source": [
    "# 5. Buscar comentarios publicados por usuarios mayores de 40 años. (Consultas anidadas)\n",
    "query = {\n",
    "    \"comments\": {\n",
    "        \"$elemMatch\": {\n",
    "            \"user_age\": {\"$gt\": 40}\n",
    "        }\n",
    "    }\n",
    "}\n",
    "\n",
    "result = users_collecition.find(query)\n",
    "\n",
    "# Iterar sobre los resultados\n",
    "print(\"Comentarios de usuarios mayores de 40 años:\")\n",
    "for user in result:\n",
    "    for comment in user['comments']:\n",
    "        if comment['user_age'] > 40:\n",
    "            print(comment)\n"
   ]
  },
  {
   "cell_type": "markdown",
   "metadata": {},
   "source": [
    "4. Ordenar y limitar"
   ]
  },
  {
   "cell_type": "code",
   "execution_count": 10,
   "metadata": {},
   "outputs": [
    {
     "name": "stdout",
     "output_type": "stream",
     "text": [
      "Collection(Database(MongoClient(host=['localhost:27017'], document_class=dict, tz_aware=False, connect=True), 'quiz'), \"users.Collection(Database(MongoClient(host=['localhost:27017'], document_class=dict, tz_aware=False, connect=True), 'quiz'), 'users')\")\n"
     ]
    }
   ],
   "source": [
    "# 1. Ordenar todos los usuarios por edad en orden descendente.\n",
    "\n"
   ]
  },
  {
   "cell_type": "code",
   "execution_count": null,
   "metadata": {},
   "outputs": [],
   "source": [
    "# 2. Buscar los 3 usuarios principales con las publicaciones más recientes (en función de la marca de tiem\u0002po)."
   ]
  },
  {
   "cell_type": "code",
   "execution_count": null,
   "metadata": {},
   "outputs": [],
   "source": [
    "# 3. Omitir los primeros 5 resultados y recuperar los próximos 10 usuarios.\n",
    "result = users_collecition.find().skip(5).limit(10)\n",
    "print(\"Próximos 10 usuarios después de omitir los primeros 5:\")\n",
    "for user in result:\n",
    "    print(user)\n"
   ]
  },
  {
   "cell_type": "markdown",
   "metadata": {},
   "source": [
    "5. Marco de agregación"
   ]
  },
  {
   "cell_type": "code",
   "execution_count": null,
   "metadata": {},
   "outputs": [],
   "source": [
    "# 1. Utilizar el pipeline de agregación para calcular el número total de usuarios"
   ]
  },
  {
   "cell_type": "code",
   "execution_count": null,
   "metadata": {},
   "outputs": [],
   "source": [
    "# 2. Encontrar al usuario con el contenido de publicación más largo (en función del número de caracteres).\n",
    "pipeline = [\n",
    "    {\"$unwind\": \"$posts\"}, \n",
    "    {\"$group\": {\n",
    "        \"_id\": \"$user\",\n",
    "        \"max_post_length\": {\"$max\": {\"$strLenCP\": \"$posts.content\"}}\n",
    "    }},\n",
    "    {\"$sort\": {\"max_post_length\": -1}},\n",
    "    {\"$limit\": 1}  \n",
    "]\n",
    "result = users_collecition.aggregate(pipeline)\n",
    "print(\"Usuario con la publicación más larga:\")\n",
    "for user in result:\n",
    "    print(user) \n",
    "\n",
    "\n",
    "\n",
    "\n"
   ]
  },
  {
   "cell_type": "code",
   "execution_count": null,
   "metadata": {},
   "outputs": [],
   "source": [
    "# 3. Agrupar a los usuarios por edad y contar la cantidad de usuarios en cada grupo de edad."
   ]
  },
  {
   "cell_type": "code",
   "execution_count": null,
   "metadata": {},
   "outputs": [],
   "source": [
    "# 4. Calcular la longitud promedio de los comentarios en todos los comentarios."
   ]
  },
  {
   "cell_type": "code",
   "execution_count": null,
   "metadata": {},
   "outputs": [],
   "source": [
    "# 5. Cambiar la forma como se presentan los datos, de tal forma que cada usuario tenga la lista de todos\n",
    "# los posts asociados a él. No se deben agregar el detalle de los comentarios, solo un nuevo campo con\n",
    "# el total de comentarios."
   ]
  },
  {
   "cell_type": "markdown",
   "metadata": {},
   "source": [
    "6. Actualización y eliminación con operadores"
   ]
  },
  {
   "cell_type": "code",
   "execution_count": null,
   "metadata": {},
   "outputs": [],
   "source": [
    "# 1. Incrementar la edad de todos los usuarios en 1.\n"
   ]
  },
  {
   "cell_type": "code",
   "execution_count": null,
   "metadata": {},
   "outputs": [],
   "source": [
    "# 2. Establecer el campo ”contenido” de una publicación específica en una cadena vacía"
   ]
  },
  {
   "cell_type": "code",
   "execution_count": null,
   "metadata": {},
   "outputs": [],
   "source": [
    "# 3. Eliminar todos los comentarios de la publicación de un usuario\n",
    "usuario = \"Joann Bowen\"  \n",
    "titulo_publicacion = \"Random title for Joann Bowen\"  \n",
    "query = {\n",
    "    \"user\": usuario, \n",
    "    \"post.title\": titulo_publicacion  \n",
    "}\n",
    "\n",
    "update_query = {\n",
    "    \"$set\": {\n",
    "        \"comments\": []  \n",
    "    }\n",
    "}\n",
    "result = users_collecition.update_many(query, update_query)\n",
    "print(\"Número de comentarios eliminados:\", result.modified_count)\n"
   ]
  },
  {
   "cell_type": "code",
   "execution_count": null,
   "metadata": {},
   "outputs": [],
   "source": [
    "# 4. Eliminar todos los usuarios con direcciones de correo electrónico que terminen en ”@example.org”.\n",
    "query = {\n",
    "    \"user_email\": {\"$regex\": r\"@example\\.org$\"} \n",
    "}\n",
    "\n",
    "result = users_collecition.delete_many(query)\n",
    "print(\"Número de usuarios eliminados:\", result.deleted_count)\n",
    "                                                                                    #Elimina terminados en @example.org, no @example.com ni @example.net\n"
   ]
  },
  {
   "cell_type": "markdown",
   "metadata": {},
   "source": [
    "7. Indexación y optimización avanzadas"
   ]
  },
  {
   "cell_type": "code",
   "execution_count": null,
   "metadata": {},
   "outputs": [],
   "source": [
    "# 1. Crear un índice en el campo ”user_email” para búsquedas de correo electrónico más rápidas."
   ]
  },
  {
   "cell_type": "code",
   "execution_count": null,
   "metadata": {},
   "outputs": [],
   "source": [
    "# 2. Explicar el plan de consulta para encontrar usuarios con edad mayor a 30\n",
    "\n",
    "\n",
    "\n",
    "#\n",
    "#La consulta para encontrar usuarios con edad mayor a 30 en sintaxis de MongoDB puede verse de la siguiente manera:\n",
    "#                                                   query = {\"user_age\": {\"$gt\": 30}}\n",
    "#\n",
    "\n",
    "\n",
    "#Plan de consulta:\n",
    "#Cuando ejecutamos esta consulta MongoDB utilizará el índice creado en el campo \"user_age\" para optimizar la búsqueda, lo que mejora su rendimiento y permite obtener resultados de forma eficiente\n",
    "#   MongoDB buscará en el índice de user_age los valores que son mayores a 30.\n",
    "#   Después usará estos valores del índice para acceder directamente a los documentos que satisfacen la condición de la consulta.\n",
    "#   Finalmente, MongoDB devolverá los documentos encontrados que cumplan con el criterio de búsqueda.\n",
    "\n"
   ]
  },
  {
   "cell_type": "code",
   "execution_count": null,
   "metadata": {},
   "outputs": [],
   "source": [
    "#3. Discutir las ventajas y desventajas de almacenar comentarios dentro del documento de usuario.\n"
   ]
  }
 ],
 "metadata": {
  "kernelspec": {
   "display_name": ".venv",
   "language": "python",
   "name": "python3"
  },
  "language_info": {
   "codemirror_mode": {
    "name": "ipython",
    "version": 3
   },
   "file_extension": ".py",
   "mimetype": "text/x-python",
   "name": "python",
   "nbconvert_exporter": "python",
   "pygments_lexer": "ipython3",
   "version": "3.12.0"
  }
 },
 "nbformat": 4,
 "nbformat_minor": 2
}
