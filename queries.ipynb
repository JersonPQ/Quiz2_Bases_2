{
 "cells": [
  {
   "cell_type": "code",
   "execution_count": 1,
   "metadata": {},
   "outputs": [],
   "source": [
    "from pymongo import MongoClient\n",
    "\n",
    "client = MongoClient('localhost', 27017, username='root', password='example')\n",
    "\n",
    "db = client['quiz']\n",
    "\n",
    "users_collecition = db['users']"
   ]
  },
  {
   "cell_type": "code",
   "execution_count": 30,
   "metadata": {},
   "outputs": [],
   "source": [
    "from itertools import islice\n",
    "import json\n",
    "from datetime import datetime\n",
    "\n",
    "with open ('data.jsonl', 'r') as f:\n",
    "    for line in islice(f, 40):\n",
    "        data = json.loads(line)\n",
    "        data['post']['timestamp'] = datetime.fromisoformat(data['post']['timestamp'])\n",
    "        for comment in data['comments']:\n",
    "            comment['comment']['timestamp'] = datetime.fromisoformat(comment['comment']['timestamp'])\n",
    "        \n",
    "        users_collecition.insert_one(data)\n"
   ]
  },
  {
   "cell_type": "markdown",
   "metadata": {},
   "source": [
    "1. Operaciones CRUD básicas (Crear, Leer, Actualizar, Eliminar)"
   ]
  },
  {
   "cell_type": "code",
   "execution_count": 3,
   "metadata": {},
   "outputs": [
    {
     "data": {
      "text/plain": [
       "InsertOneResult(ObjectId('65f1098b4da40f1600c11cd6'), acknowledged=True)"
      ]
     },
     "execution_count": 3,
     "metadata": {},
     "output_type": "execute_result"
    }
   ],
   "source": [
    "# 1. Insertar 5 nuevos documentos de usuario con datos únicos.\n",
    "doc1 = {\"user\": \"Jerson\", \"user_age\": 21, \"user_email\": \"jerson@gmail.com\"}\n",
    "doc2 = {\"user\": \"Carlos\", \"user_age\": 22, \"user_email\": \"carlos@gmail.com\"}\n",
    "doc3 = {\"user\": \"Luis\", \"user_age\": 23, \"user_email\": \"luis@gmail.com\"}\n",
    "doc4 = {\"user\": \"Pedro\", \"user_age\": 24, \"user_email\": \"pedro@gmail.com\"}\n",
    "doc5 = {\"user\": \"Maria\", \"user_age\": 35, \"user_email\": \"maria@gmail.com\"}\n",
    "\n",
    "# insertar documentos a la colección\n",
    "users_collecition.insert_one(doc1)\n",
    "users_collecition.insert_one(doc2)\n",
    "users_collecition.insert_one(doc3)\n",
    "users_collecition.insert_one(doc4)\n",
    "users_collecition.insert_one(doc5)"
   ]
  },
  {
   "cell_type": "code",
   "execution_count": null,
   "metadata": {},
   "outputs": [],
   "source": [
    "# 2. Buscar todos los usuarios con edad mayor a 25.\n"
   ]
  },
  {
   "cell_type": "code",
   "execution_count": 31,
   "metadata": {},
   "outputs": [
    {
     "name": "stdout",
     "output_type": "stream",
     "text": [
      "Usuario encontrado:\n",
      "{'_id': ObjectId('65f1098b4da40f1600c11cd2'), 'user': 'Jerson', 'user_age': 21, 'user_email': 'jerson@gmail.com'}\n"
     ]
    }
   ],
   "source": [
    "# 3. Buscar un usuario por dirección de correo electrónico.\n",
    "email_to_find = \"jerson@gmail.com\"\n",
    "\n",
    "query = {\"user_email\": email_to_find}\n",
    "result = users_collecition.find_one(query)\n",
    "if result:\n",
    "    print(\"Usuario encontrado:\")\n",
    "    print(result)\n",
    "else:\n",
    "    print(\"No se encontró ningún usuario con ese correo electrónico.\")\n"
   ]
  },
  {
   "cell_type": "code",
   "execution_count": null,
   "metadata": {},
   "outputs": [],
   "source": [
    "# 4. Actualizar el contenido de la publicación de un usuario específico."
   ]
  },
  {
   "cell_type": "code",
   "execution_count": null,
   "metadata": {},
   "outputs": [],
   "source": [
    "# 5. Eliminar un documento de usuario y todos sus comentarios asociados."
   ]
  },
  {
   "cell_type": "markdown",
   "metadata": {},
   "source": [
    "2. Consultas con operadores"
   ]
  },
  {
   "cell_type": "code",
   "execution_count": null,
   "metadata": {},
   "outputs": [],
   "source": [
    "# 1. Buscar todos los usuarios cuyo nombre de usuario contenga la palabra S̈mith.̈ (Expresiones regulares)"
   ]
  },
  {
   "cell_type": "code",
   "execution_count": 33,
   "metadata": {},
   "outputs": [
    {
     "name": "stdout",
     "output_type": "stream",
     "text": [
      "Publicaciones creadas después de 2014-01-01 00:00:00\n",
      "{'_id': ObjectId('65f109764da40f1600c11cbe'), 'user': 'Kayla Hill', 'user_email': 'snyderkathy@example.net', 'user_age': 29, 'post': {'title': 'Random title for Kayla Hill', 'content': 'Random content for Kayla Hill Successful lead sound remember since how. Religious actually speak stay.\\nCoach finally concern can. Traditional few professor establish.\\nStreet whose court shoulder. Gun draw can cost rock much some.', 'timestamp': datetime.datetime(2019, 8, 19, 12, 34, 25, 821000)}, 'comments': [{'user': 'Jon Rodriguez', 'user_email': 'joseph02@example.com', 'user_age': 40, 'comment': {'text': 'Random text Officer concern explain. Enough subject financial over four executive development. System produce forward within. Seek tell five within cover ability force.', 'timestamp': datetime.datetime(2003, 9, 15, 20, 34, 59, 884000)}}, {'user': 'Michael Smith', 'user_email': 'claytoncody@example.org', 'user_age': 32, 'comment': {'text': 'Random text Yourself society produce sister less car experience. Half camera still. Spring important enjoy cultural today thus give science. Across teach onto describe authority purpose.', 'timestamp': datetime.datetime(2020, 8, 5, 22, 18, 20, 577000)}}, {'user': 'Michael Smith', 'user_email': 'robertrobbins@example.org', 'user_age': 41, 'comment': {'text': 'Random text Room suddenly top who performance number rise. Rate buy major wide son director ahead. Give their eight pull. Director actually open travel job rich.', 'timestamp': datetime.datetime(1989, 9, 22, 14, 8, 52, 198000)}}]}\n",
      "{'_id': ObjectId('65f109764da40f1600c11cc0'), 'user': 'Kayla Hill', 'user_email': 'snyderkathy@example.net', 'user_age': 29, 'post': {'title': 'Random title for Kayla Hill', 'content': 'Random content for Kayla Hill Remember partner reveal today. Quickly wind finish teacher staff knowledge learn pattern. Tend test water never stock degree.\\nOwn near middle watch mouth. Up involve court draw responsibility.', 'timestamp': datetime.datetime(2023, 11, 6, 1, 43, 8, 813000)}, 'comments': []}\n",
      "{'_id': ObjectId('65f109764da40f1600c11cc6'), 'user': 'Kayla Hill', 'user_email': 'snyderkathy@example.net', 'user_age': 29, 'post': {'title': 'Random title for Kayla Hill', 'content': 'Random content for Kayla Hill Fast trial work note. Likely future marriage through. Imagine the protect way member factor use.\\nThem art wide free only career. Rich occur middle sport unit show.', 'timestamp': datetime.datetime(2024, 1, 16, 18, 42, 36, 866000)}, 'comments': [{'user': 'Kristi Cooley', 'user_email': 'yrangel@example.net', 'user_age': 42, 'comment': {'text': 'Random text Mention ask type control area local. Program hear itself price force. Study involve yes.', 'timestamp': datetime.datetime(2016, 12, 31, 9, 42, 24, 798000)}}, {'user': 'Kristi Cooley', 'user_email': 'amber13@example.net', 'user_age': 30, 'comment': {'text': 'Random text Behind south collection study business. During foreign camera interest. Almost truth test nature end. Just source security population high last to.', 'timestamp': datetime.datetime(1997, 4, 6, 1, 37, 29, 739000)}}, {'user': 'Lucas Rogers', 'user_email': 'snyderkathy@example.net', 'user_age': 42, 'comment': {'text': 'Random text Suffer second number whether really behind modern. Smile modern finally number student Democrat discuss.\\nOption next throw bad clearly. Entire sing senior than green.', 'timestamp': datetime.datetime(2010, 3, 31, 5, 38, 48, 688000)}}, {'user': 'Lindsay Thornton', 'user_email': 'harveybrenda@example.org', 'user_age': 28, 'comment': {'text': 'Random text First data decide big west. One later section analysis impact heart political certain. Keep air campaign easy four natural. Base bank window bed when career research.', 'timestamp': datetime.datetime(1983, 5, 18, 14, 37, 34, 349000)}}]}\n",
      "{'_id': ObjectId('65f109764da40f1600c11cca'), 'user': 'Kayla Hill', 'user_email': 'snyderkathy@example.net', 'user_age': 29, 'post': {'title': 'Random title for Kayla Hill', 'content': 'Random content for Kayla Hill By north network I. Who common main physical life study design. Both wall official himself remain wonder.', 'timestamp': datetime.datetime(2019, 12, 10, 14, 11, 13, 275000)}, 'comments': [{'user': 'Joann Bowen', 'user_email': 'claytoncody@example.org', 'user_age': 18, 'comment': {'text': 'Random text Speak statement money speech. Dark work a happy fast themselves. See worker though he manager vote hand.\\nRun mission raise position prove. Why Democrat view end long example capital.', 'timestamp': datetime.datetime(2011, 1, 23, 3, 18, 56, 612000)}}, {'user': 'Timothy Gallegos', 'user_email': 'tommy81@example.org', 'user_age': 37, 'comment': {'text': 'Random text Onto half institution.\\nPolice explain need environmental movement once while. Anyone than upon lot go determine blue. Other ever begin before.', 'timestamp': datetime.datetime(1995, 8, 23, 18, 18, 45, 86000)}}, {'user': 'Todd Park', 'user_email': 'edwardsmeagan@example.com', 'user_age': 33, 'comment': {'text': 'Random text Positive goal agency edge. Bar remember major professional author decade give.\\nAhead medical ball which.\\nStop hear important country pass. Party fill crime maintain and me interest bank.', 'timestamp': datetime.datetime(1994, 6, 6, 2, 9, 52, 3000)}}]}\n",
      "{'_id': ObjectId('65f109764da40f1600c11ccb'), 'user': 'Kayla Hill', 'user_email': 'snyderkathy@example.net', 'user_age': 29, 'post': {'title': 'Random title for Kayla Hill', 'content': 'Random content for Kayla Hill Central staff with policy make all will. Grow war remember floor similar various summer local. Senior establish religious least husband look even.\\nReal sister process peace. Impact rate eight break.', 'timestamp': datetime.datetime(2015, 9, 14, 16, 59, 22, 939000)}, 'comments': [{'user': 'Richard Bonilla', 'user_email': 'robertrobbins@example.org', 'user_age': 39, 'comment': {'text': 'Random text Nature day claim lay hit apply small last. Card player against speech thing.\\nWorker collection law deal various expect. Project would chance week coach exactly.', 'timestamp': datetime.datetime(2020, 9, 12, 21, 49, 49, 558000)}}, {'user': 'Christopher Jenkins', 'user_email': 'yrangel@example.net', 'user_age': 27, 'comment': {'text': 'Random text Current former off. Line be organization recognize whole still gas point. Management majority point participant. Any think someone wear.', 'timestamp': datetime.datetime(2023, 5, 22, 8, 46, 5, 122000)}}, {'user': 'Erin Smith', 'user_email': 'reneeterry@example.org', 'user_age': 46, 'comment': {'text': 'Random text Listen exactly figure voice. Stay use never American production apply. Important trip sister identify myself.', 'timestamp': datetime.datetime(1974, 12, 29, 16, 32, 57, 540000)}}]}\n",
      "{'_id': ObjectId('65f109764da40f1600c11ccc'), 'user': 'Kayla Hill', 'user_email': 'snyderkathy@example.net', 'user_age': 29, 'post': {'title': 'Random title for Kayla Hill', 'content': 'Random content for Kayla Hill Quite manager then with. Fill economic serious heavy. Scientist woman six middle visit not. Seat find author benefit around federal whole.', 'timestamp': datetime.datetime(2015, 8, 21, 12, 24, 22, 902000)}, 'comments': [{'user': 'Zachary King', 'user_email': 'yrangel@example.net', 'user_age': 27, 'comment': {'text': 'Random text Compare certainly for ok agreement term source. Girl for thousand trip since current behind.\\nStudent point make risk entire forget arm during. Such wear actually allow.', 'timestamp': datetime.datetime(1990, 8, 1, 20, 52, 49, 857000)}}]}\n",
      "{'_id': ObjectId('65f1245a4da40f1600c11cdc'), 'user': 'Joann Bowen', 'user_email': 'tmartin@example.org', 'user_age': 19, 'post': {'title': 'Random title for Joann Bowen', 'content': 'Random content for Joann Bowen Mind the form local easy evidence. Get leave media good. Contain sort heavy like amount. Point arrive nature modern rock me imagine as.', 'timestamp': datetime.datetime(2015, 5, 5, 15, 6, 49, 482000)}, 'comments': [{'user': 'Lucas Rogers', 'user_email': 'kmorrison@example.com', 'user_age': 32, 'comment': {'text': 'Random text Trouble prove kind begin film perhaps line. His miss sit through whether society right decide. Serve difficult cover feeling.', 'timestamp': datetime.datetime(1974, 9, 16, 12, 59, 52, 349000)}}, {'user': 'Timothy Gallegos', 'user_email': 'joseph02@example.com', 'user_age': 28, 'comment': {'text': 'Random text Treat tend live. Through successful far black.\\nLater field war president enter commercial. Person foot research these. Dog sort alone project.', 'timestamp': datetime.datetime(1974, 7, 12, 19, 23, 34, 329000)}}, {'user': 'Lucas Rogers', 'user_email': 'hhawkins@example.net', 'user_age': 41, 'comment': {'text': 'Random text Yourself chance toward. Level police sport already. Parent majority nature ago read offer few enough.', 'timestamp': datetime.datetime(1984, 2, 9, 0, 26, 27, 749000)}}]}\n",
      "{'_id': ObjectId('65f1245b4da40f1600c11ceb'), 'user': 'Kayla Hill', 'user_email': 'snyderkathy@example.net', 'user_age': 29, 'post': {'title': 'Random title for Kayla Hill', 'content': 'Random content for Kayla Hill Successful lead sound remember since how. Religious actually speak stay.\\nCoach finally concern can. Traditional few professor establish.\\nStreet whose court shoulder. Gun draw can cost rock much some.', 'timestamp': datetime.datetime(2019, 8, 19, 12, 34, 25, 821000)}, 'comments': [{'user': 'Jon Rodriguez', 'user_email': 'joseph02@example.com', 'user_age': 40, 'comment': {'text': 'Random text Officer concern explain. Enough subject financial over four executive development. System produce forward within. Seek tell five within cover ability force.', 'timestamp': datetime.datetime(2003, 9, 15, 20, 34, 59, 884000)}}, {'user': 'Michael Smith', 'user_email': 'claytoncody@example.org', 'user_age': 32, 'comment': {'text': 'Random text Yourself society produce sister less car experience. Half camera still. Spring important enjoy cultural today thus give science. Across teach onto describe authority purpose.', 'timestamp': datetime.datetime(2020, 8, 5, 22, 18, 20, 577000)}}, {'user': 'Michael Smith', 'user_email': 'robertrobbins@example.org', 'user_age': 41, 'comment': {'text': 'Random text Room suddenly top who performance number rise. Rate buy major wide son director ahead. Give their eight pull. Director actually open travel job rich.', 'timestamp': datetime.datetime(1989, 9, 22, 14, 8, 52, 198000)}}]}\n",
      "{'_id': ObjectId('65f1245b4da40f1600c11ced'), 'user': 'Kayla Hill', 'user_email': 'snyderkathy@example.net', 'user_age': 29, 'post': {'title': 'Random title for Kayla Hill', 'content': 'Random content for Kayla Hill Remember partner reveal today. Quickly wind finish teacher staff knowledge learn pattern. Tend test water never stock degree.\\nOwn near middle watch mouth. Up involve court draw responsibility.', 'timestamp': datetime.datetime(2023, 11, 6, 1, 43, 8, 813000)}, 'comments': []}\n",
      "{'_id': ObjectId('65f1245b4da40f1600c11cf3'), 'user': 'Kayla Hill', 'user_email': 'snyderkathy@example.net', 'user_age': 29, 'post': {'title': 'Random title for Kayla Hill', 'content': 'Random content for Kayla Hill Fast trial work note. Likely future marriage through. Imagine the protect way member factor use.\\nThem art wide free only career. Rich occur middle sport unit show.', 'timestamp': datetime.datetime(2024, 1, 16, 18, 42, 36, 866000)}, 'comments': [{'user': 'Kristi Cooley', 'user_email': 'yrangel@example.net', 'user_age': 42, 'comment': {'text': 'Random text Mention ask type control area local. Program hear itself price force. Study involve yes.', 'timestamp': datetime.datetime(2016, 12, 31, 9, 42, 24, 798000)}}, {'user': 'Kristi Cooley', 'user_email': 'amber13@example.net', 'user_age': 30, 'comment': {'text': 'Random text Behind south collection study business. During foreign camera interest. Almost truth test nature end. Just source security population high last to.', 'timestamp': datetime.datetime(1997, 4, 6, 1, 37, 29, 739000)}}, {'user': 'Lucas Rogers', 'user_email': 'snyderkathy@example.net', 'user_age': 42, 'comment': {'text': 'Random text Suffer second number whether really behind modern. Smile modern finally number student Democrat discuss.\\nOption next throw bad clearly. Entire sing senior than green.', 'timestamp': datetime.datetime(2010, 3, 31, 5, 38, 48, 688000)}}, {'user': 'Lindsay Thornton', 'user_email': 'harveybrenda@example.org', 'user_age': 28, 'comment': {'text': 'Random text First data decide big west. One later section analysis impact heart political certain. Keep air campaign easy four natural. Base bank window bed when career research.', 'timestamp': datetime.datetime(1983, 5, 18, 14, 37, 34, 349000)}}]}\n",
      "{'_id': ObjectId('65f1245b4da40f1600c11cf7'), 'user': 'Kayla Hill', 'user_email': 'snyderkathy@example.net', 'user_age': 29, 'post': {'title': 'Random title for Kayla Hill', 'content': 'Random content for Kayla Hill By north network I. Who common main physical life study design. Both wall official himself remain wonder.', 'timestamp': datetime.datetime(2019, 12, 10, 14, 11, 13, 275000)}, 'comments': [{'user': 'Joann Bowen', 'user_email': 'claytoncody@example.org', 'user_age': 18, 'comment': {'text': 'Random text Speak statement money speech. Dark work a happy fast themselves. See worker though he manager vote hand.\\nRun mission raise position prove. Why Democrat view end long example capital.', 'timestamp': datetime.datetime(2011, 1, 23, 3, 18, 56, 612000)}}, {'user': 'Timothy Gallegos', 'user_email': 'tommy81@example.org', 'user_age': 37, 'comment': {'text': 'Random text Onto half institution.\\nPolice explain need environmental movement once while. Anyone than upon lot go determine blue. Other ever begin before.', 'timestamp': datetime.datetime(1995, 8, 23, 18, 18, 45, 86000)}}, {'user': 'Todd Park', 'user_email': 'edwardsmeagan@example.com', 'user_age': 33, 'comment': {'text': 'Random text Positive goal agency edge. Bar remember major professional author decade give.\\nAhead medical ball which.\\nStop hear important country pass. Party fill crime maintain and me interest bank.', 'timestamp': datetime.datetime(1994, 6, 6, 2, 9, 52, 3000)}}]}\n",
      "{'_id': ObjectId('65f1245b4da40f1600c11cf8'), 'user': 'Kayla Hill', 'user_email': 'snyderkathy@example.net', 'user_age': 29, 'post': {'title': 'Random title for Kayla Hill', 'content': 'Random content for Kayla Hill Central staff with policy make all will. Grow war remember floor similar various summer local. Senior establish religious least husband look even.\\nReal sister process peace. Impact rate eight break.', 'timestamp': datetime.datetime(2015, 9, 14, 16, 59, 22, 939000)}, 'comments': [{'user': 'Richard Bonilla', 'user_email': 'robertrobbins@example.org', 'user_age': 39, 'comment': {'text': 'Random text Nature day claim lay hit apply small last. Card player against speech thing.\\nWorker collection law deal various expect. Project would chance week coach exactly.', 'timestamp': datetime.datetime(2020, 9, 12, 21, 49, 49, 558000)}}, {'user': 'Christopher Jenkins', 'user_email': 'yrangel@example.net', 'user_age': 27, 'comment': {'text': 'Random text Current former off. Line be organization recognize whole still gas point. Management majority point participant. Any think someone wear.', 'timestamp': datetime.datetime(2023, 5, 22, 8, 46, 5, 122000)}}, {'user': 'Erin Smith', 'user_email': 'reneeterry@example.org', 'user_age': 46, 'comment': {'text': 'Random text Listen exactly figure voice. Stay use never American production apply. Important trip sister identify myself.', 'timestamp': datetime.datetime(1974, 12, 29, 16, 32, 57, 540000)}}]}\n",
      "{'_id': ObjectId('65f1245b4da40f1600c11cf9'), 'user': 'Kayla Hill', 'user_email': 'snyderkathy@example.net', 'user_age': 29, 'post': {'title': 'Random title for Kayla Hill', 'content': 'Random content for Kayla Hill Quite manager then with. Fill economic serious heavy. Scientist woman six middle visit not. Seat find author benefit around federal whole.', 'timestamp': datetime.datetime(2015, 8, 21, 12, 24, 22, 902000)}, 'comments': [{'user': 'Zachary King', 'user_email': 'yrangel@example.net', 'user_age': 27, 'comment': {'text': 'Random text Compare certainly for ok agreement term source. Girl for thousand trip since current behind.\\nStudent point make risk entire forget arm during. Such wear actually allow.', 'timestamp': datetime.datetime(1990, 8, 1, 20, 52, 49, 857000)}}]}\n"
     ]
    }
   ],
   "source": [
    "# 2. Buscar publicaciones creadas después de una fecha específica (por ejemplo, 2000-01-01).\n",
    "from datetime import datetime\n",
    "fecha_especifica = datetime(2014, 1, 1)\n",
    "query = {\"post.timestamp\": {\"$gt\": fecha_especifica}}\n",
    "result = users_collecition.find(query)\n",
    "\n",
    "print(\"Publicaciones creadas después de\", fecha_especifica)\n",
    "for post in result:\n",
    "    print(post)\n"
   ]
  },
  {
   "cell_type": "code",
   "execution_count": null,
   "metadata": {},
   "outputs": [],
   "source": [
    "# 3. Buscar usuarios que aún no han publicado ningún comentario"
   ]
  },
  {
   "cell_type": "code",
   "execution_count": 34,
   "metadata": {},
   "outputs": [
    {
     "name": "stdout",
     "output_type": "stream",
     "text": [
      "Edad promedio de todos los usuarios: 28.1\n"
     ]
    }
   ],
   "source": [
    "# 4. Encontrar la edad promedio de todos los usuarios.\n",
    "pipeline = [\n",
    "    {\n",
    "        \"$group\": {\n",
    "            \"_id\": None,\n",
    "            \"total_users\": {\"$sum\": 1},\n",
    "            \"total_age\": {\"$sum\": \"$user_age\"}\n",
    "        }\n",
    "    },\n",
    "    {\n",
    "        \"$project\": {\n",
    "            \"_id\": 0,\n",
    "            \"average_age\": {\"$divide\": [\"$total_age\", \"$total_users\"]}\n",
    "        }\n",
    "    }\n",
    "]\n",
    "\n",
    "result = users_collecition.aggregate(pipeline)\n",
    "\n",
    "average_age = list(result)[0][\"average_age\"]\n",
    "print(\"Edad promedio de todos los usuarios:\", average_age)\n"
   ]
  },
  {
   "cell_type": "code",
   "execution_count": null,
   "metadata": {},
   "outputs": [],
   "source": [
    "# 5. Buscar documentos donde la longitud del contenido de la publicación sea superior a 100 caracteres"
   ]
  },
  {
   "cell_type": "markdown",
   "metadata": {},
   "source": [
    "3. Operadores lógicos y proyección"
   ]
  },
  {
   "cell_type": "code",
   "execution_count": null,
   "metadata": {},
   "outputs": [],
   "source": [
    "# 1. Buscar usuarios que tengan más de 20 años pero menos de 30. (Combinar operadores)"
   ]
  },
  {
   "cell_type": "code",
   "execution_count": null,
   "metadata": {},
   "outputs": [],
   "source": [
    "# 2. Recuperar solo el nombre de usuario y la edad del usuario de todos los documentos. (Proyección)"
   ]
  },
  {
   "cell_type": "code",
   "execution_count": null,
   "metadata": {},
   "outputs": [],
   "source": [
    "# 3. Buscar todas las publicaciones y excluir el campo ”comentarios”"
   ]
  },
  {
   "cell_type": "code",
   "execution_count": null,
   "metadata": {},
   "outputs": [],
   "source": [
    "# 4. Buscar usuarios con al menos un comentario en su matriz ”comentarios”"
   ]
  },
  {
   "cell_type": "code",
   "execution_count": 35,
   "metadata": {},
   "outputs": [
    {
     "name": "stdout",
     "output_type": "stream",
     "text": [
      "Comentarios de usuarios mayores de 40 años:\n",
      "{'user': 'Jacob Carroll', 'user_email': 'stevensalexander@example.com', 'user_age': 53, 'comment': {'text': 'Random text Option character peace wish police artist see. Above responsibility very. Although seek fill machine federal.\\nDecision general somebody. Even value car cell short.', 'timestamp': datetime.datetime(1990, 4, 1, 3, 27, 43, 833000)}}\n",
      "{'user': 'Gary Best', 'user_email': 'joseph02@example.com', 'user_age': 48, 'comment': {'text': 'Random text Least wrong finally which through political dog. Country inside issue herself between name tax. Help lay into middle financial send.', 'timestamp': datetime.datetime(1995, 7, 30, 18, 13, 15, 295000)}}\n",
      "{'user': 'Lindsay Thornton', 'user_email': 'tylerhaley@example.org', 'user_age': 51, 'comment': {'text': 'Random text They society new value. Agreement international herself goal.\\nInterview nor again reflect home girl back out. Too remain government very certainly pass head.\\nNatural brother environment so.', 'timestamp': datetime.datetime(2018, 6, 29, 10, 2, 49, 268000)}}\n",
      "{'user': 'Richard Bonilla', 'user_email': 'hansonkaren@example.net', 'user_age': 48, 'comment': {'text': 'Random text Project table almost stuff next. Yes fine radio region even whether surface.\\nRest trouble bit two watch evening occur. Hold risk town something.', 'timestamp': datetime.datetime(1999, 6, 12, 8, 2, 49, 699000)}}\n",
      "{'user': 'Catherine Rios', 'user_email': 'krista05@example.net', 'user_age': 42, 'comment': {'text': 'Random text Prove nearly point her under president. Pretty source half discussion against both.\\nAnother spend believe left lead agreement. Reason family impact poor different.', 'timestamp': datetime.datetime(1993, 6, 11, 23, 39, 6, 418000)}}\n",
      "{'user': 'Lucas Rogers', 'user_email': 'claytoncody@example.org', 'user_age': 42, 'comment': {'text': 'Random text Institution put box continue.\\nDecision system not might several issue. Difference their recently hand around a film region. Yet last imagine.', 'timestamp': datetime.datetime(1983, 7, 17, 21, 12, 52, 938000)}}\n",
      "{'user': 'Mrs. Christine Sawyer', 'user_email': 'stevensalexander@example.com', 'user_age': 49, 'comment': {'text': 'Random text Water what stay term how reach plan crime. Pull audience however source order parent debate.\\nBoy able foreign them. Analysis upon know.', 'timestamp': datetime.datetime(1978, 1, 9, 0, 59, 49, 676000)}}\n",
      "{'user': 'Michael Smith', 'user_email': 'robertrobbins@example.org', 'user_age': 41, 'comment': {'text': 'Random text Room suddenly top who performance number rise. Rate buy major wide son director ahead. Give their eight pull. Director actually open travel job rich.', 'timestamp': datetime.datetime(1989, 9, 22, 14, 8, 52, 198000)}}\n",
      "{'user': 'Erin Smith', 'user_email': 'alexanderwheeler@example.org', 'user_age': 53, 'comment': {'text': 'Random text Thought test home value. Development TV decade attack pretty mission try. Western word no compare into.\\nJust try movie teach former. Work Republican value guy good baby whether.', 'timestamp': datetime.datetime(1976, 4, 12, 11, 29, 22, 364000)}}\n",
      "{'user': 'Kayla Hill', 'user_email': 'ginawood@example.org', 'user_age': 42, 'comment': {'text': 'Random text Expect organization operation if moment interest building. Successful pull goal collection. Meet son school board ask million meeting.', 'timestamp': datetime.datetime(1974, 8, 10, 19, 9, 42, 837000)}}\n",
      "{'user': 'Joshua Murray', 'user_email': 'snyderkathy@example.net', 'user_age': 42, 'comment': {'text': 'Random text Clearly least civil during as. Executive land fine success every edge individual. Receive shake five audience ability.\\nForm perhaps card possible. Indeed quite happen choose.', 'timestamp': datetime.datetime(2018, 2, 17, 15, 44, 58, 717000)}}\n",
      "{'user': 'Zachary King', 'user_email': 'sarabright@example.org', 'user_age': 41, 'comment': {'text': 'Random text Standard American decision owner discussion music. Phone level fall weight.\\nManage always look option. Suggest child light move. I hair human power however stand.', 'timestamp': datetime.datetime(2017, 6, 2, 3, 15, 59, 612000)}}\n",
      "{'user': 'Catherine Rios', 'user_email': 'hansonkaren@example.net', 'user_age': 53, 'comment': {'text': 'Random text Clearly account would kind hundred we kind. Control fast game this. Sport happy discover stand himself beyond response PM.', 'timestamp': datetime.datetime(1976, 2, 23, 6, 56, 0, 268000)}}\n",
      "{'user': 'Jon Rodriguez', 'user_email': 'sarabright@example.org', 'user_age': 44, 'comment': {'text': 'Random text Say middle treat wide century. Father stop affect join often husband.\\nWithout a reduce wide.\\nCandidate future education form remember. That and room ball.', 'timestamp': datetime.datetime(2010, 7, 24, 2, 37, 36, 128000)}}\n",
      "{'user': 'Kristi Cooley', 'user_email': 'yrangel@example.net', 'user_age': 42, 'comment': {'text': 'Random text Mention ask type control area local. Program hear itself price force. Study involve yes.', 'timestamp': datetime.datetime(2016, 12, 31, 9, 42, 24, 798000)}}\n",
      "{'user': 'Lucas Rogers', 'user_email': 'snyderkathy@example.net', 'user_age': 42, 'comment': {'text': 'Random text Suffer second number whether really behind modern. Smile modern finally number student Democrat discuss.\\nOption next throw bad clearly. Entire sing senior than green.', 'timestamp': datetime.datetime(2010, 3, 31, 5, 38, 48, 688000)}}\n",
      "{'user': 'Michael Smith', 'user_email': 'yrangel@example.net', 'user_age': 41, 'comment': {'text': 'Random text Culture step likely indeed. Stage either fast color economy wonder affect. Beat everything understand opportunity question.\\nThus front key eight fund.', 'timestamp': datetime.datetime(2003, 2, 4, 6, 23, 23, 510000)}}\n",
      "{'user': 'Robert Wood', 'user_email': 'hhawkins@example.net', 'user_age': 51, 'comment': {'text': 'Random text Republican this us beat threat number international particularly. North ever even move forward than size window.', 'timestamp': datetime.datetime(2007, 12, 9, 5, 39, 6, 326000)}}\n",
      "{'user': 'Erin Smith', 'user_email': 'reneeterry@example.org', 'user_age': 46, 'comment': {'text': 'Random text Listen exactly figure voice. Stay use never American production apply. Important trip sister identify myself.', 'timestamp': datetime.datetime(1974, 12, 29, 16, 32, 57, 540000)}}\n",
      "{'user': 'Debra Smith DDS', 'user_email': 'thompsonkristine@example.net', 'user_age': 53, 'comment': {'text': 'Random text Light camera show surface future interest.\\nThreat mother service candidate interest. Budget offer kind go often.\\nBorn role machine single many.', 'timestamp': datetime.datetime(2012, 9, 10, 21, 48, 4, 948000)}}\n",
      "{'user': 'Margaret Flores', 'user_email': 'robertrobbins@example.org', 'user_age': 53, 'comment': {'text': 'Random text Worker responsibility he song. Bill themselves win choice carry market. Evidence wish car second.\\nDraw ten they know. Product herself education.', 'timestamp': datetime.datetime(2010, 1, 31, 23, 13, 48, 109000)}}\n",
      "{'user': 'Christopher Jenkins', 'user_email': 'amber13@example.net', 'user_age': 44, 'comment': {'text': 'Random text Dream mention help just. Actually detail medical short all. Tough ground support learn cover.\\nExecutive recognize different garden song debate. Kitchen figure dark current forget.', 'timestamp': datetime.datetime(1976, 12, 7, 9, 52, 19, 698000)}}\n",
      "{'user': 'Beth Mendez', 'user_email': 'carrie93@example.com', 'user_age': 49, 'comment': {'text': 'Random text Foot that early level prevent general century. First including artist everyone discussion.\\nCapital fear deep.', 'timestamp': datetime.datetime(1993, 5, 18, 10, 31, 49, 908000)}}\n",
      "{'user': 'Joshua Murray', 'user_email': 'tmartin@example.org', 'user_age': 51, 'comment': {'text': 'Random text Forget blue different most drive amount change. Beat successful inside court guess she thank. Image serious report cell federal majority how agent.', 'timestamp': datetime.datetime(1971, 3, 8, 2, 26, 36, 557000)}}\n",
      "{'user': 'Joshua Murray', 'user_email': 'tmartin@example.org', 'user_age': 41, 'comment': {'text': 'Random text Tell necessary successful push rock live dark method. Shoulder quality total such gas successful chance.\\nPresent force loss treatment new technology suddenly. Stand name must anything west.', 'timestamp': datetime.datetime(1990, 9, 24, 14, 26, 33, 227000)}}\n",
      "{'user': 'Lucas Rogers', 'user_email': 'hhawkins@example.net', 'user_age': 41, 'comment': {'text': 'Random text Yourself chance toward. Level police sport already. Parent majority nature ago read offer few enough.', 'timestamp': datetime.datetime(1984, 2, 9, 0, 26, 27, 749000)}}\n",
      "{'user': 'Debra Smith DDS', 'user_email': 'sarabright@example.org', 'user_age': 44, 'comment': {'text': 'Random text Parent build development market. True know reality leg. Form rise walk accept environment.\\nCity later speak sport year argue politics. Well amount film worry.\\nDoctor health time.', 'timestamp': datetime.datetime(1996, 3, 30, 7, 31, 31, 773000)}}\n",
      "{'user': 'Jacob Carroll', 'user_email': 'tmartin@example.org', 'user_age': 53, 'comment': {'text': 'Random text Choose give despite production perhaps medical. Happen onto according firm detail whether.', 'timestamp': datetime.datetime(1993, 7, 7, 9, 3, 52, 785000)}}\n",
      "{'user': 'Jeffrey Perez', 'user_email': 'carrie93@example.com', 'user_age': 48, 'comment': {'text': 'Random text Second small trial government. Up side report career. Century medical report.\\nRaise note available build manage their. Participant assume positive fact already them.', 'timestamp': datetime.datetime(2005, 2, 23, 18, 50, 1, 145000)}}\n",
      "{'user': 'Erin Smith', 'user_email': 'tommy81@example.org', 'user_age': 42, 'comment': {'text': 'Random text Head as create door. Task become hair already skin pay agency loss. Item participant thing space meet wall decide.', 'timestamp': datetime.datetime(2016, 5, 29, 5, 24, 8, 474000)}}\n",
      "{'user': 'Jacob Carroll', 'user_email': 'stevensalexander@example.com', 'user_age': 53, 'comment': {'text': 'Random text Option character peace wish police artist see. Above responsibility very. Although seek fill machine federal.\\nDecision general somebody. Even value car cell short.', 'timestamp': datetime.datetime(1990, 4, 1, 3, 27, 43, 833000)}}\n",
      "{'user': 'Gary Best', 'user_email': 'joseph02@example.com', 'user_age': 48, 'comment': {'text': 'Random text Least wrong finally which through political dog. Country inside issue herself between name tax. Help lay into middle financial send.', 'timestamp': datetime.datetime(1995, 7, 30, 18, 13, 15, 295000)}}\n",
      "{'user': 'Lindsay Thornton', 'user_email': 'tylerhaley@example.org', 'user_age': 51, 'comment': {'text': 'Random text They society new value. Agreement international herself goal.\\nInterview nor again reflect home girl back out. Too remain government very certainly pass head.\\nNatural brother environment so.', 'timestamp': datetime.datetime(2018, 6, 29, 10, 2, 49, 268000)}}\n",
      "{'user': 'Richard Bonilla', 'user_email': 'hansonkaren@example.net', 'user_age': 48, 'comment': {'text': 'Random text Project table almost stuff next. Yes fine radio region even whether surface.\\nRest trouble bit two watch evening occur. Hold risk town something.', 'timestamp': datetime.datetime(1999, 6, 12, 8, 2, 49, 699000)}}\n",
      "{'user': 'Catherine Rios', 'user_email': 'krista05@example.net', 'user_age': 42, 'comment': {'text': 'Random text Prove nearly point her under president. Pretty source half discussion against both.\\nAnother spend believe left lead agreement. Reason family impact poor different.', 'timestamp': datetime.datetime(1993, 6, 11, 23, 39, 6, 418000)}}\n",
      "{'user': 'Lucas Rogers', 'user_email': 'claytoncody@example.org', 'user_age': 42, 'comment': {'text': 'Random text Institution put box continue.\\nDecision system not might several issue. Difference their recently hand around a film region. Yet last imagine.', 'timestamp': datetime.datetime(1983, 7, 17, 21, 12, 52, 938000)}}\n",
      "{'user': 'Mrs. Christine Sawyer', 'user_email': 'stevensalexander@example.com', 'user_age': 49, 'comment': {'text': 'Random text Water what stay term how reach plan crime. Pull audience however source order parent debate.\\nBoy able foreign them. Analysis upon know.', 'timestamp': datetime.datetime(1978, 1, 9, 0, 59, 49, 676000)}}\n",
      "{'user': 'Michael Smith', 'user_email': 'robertrobbins@example.org', 'user_age': 41, 'comment': {'text': 'Random text Room suddenly top who performance number rise. Rate buy major wide son director ahead. Give their eight pull. Director actually open travel job rich.', 'timestamp': datetime.datetime(1989, 9, 22, 14, 8, 52, 198000)}}\n",
      "{'user': 'Erin Smith', 'user_email': 'alexanderwheeler@example.org', 'user_age': 53, 'comment': {'text': 'Random text Thought test home value. Development TV decade attack pretty mission try. Western word no compare into.\\nJust try movie teach former. Work Republican value guy good baby whether.', 'timestamp': datetime.datetime(1976, 4, 12, 11, 29, 22, 364000)}}\n",
      "{'user': 'Kayla Hill', 'user_email': 'ginawood@example.org', 'user_age': 42, 'comment': {'text': 'Random text Expect organization operation if moment interest building. Successful pull goal collection. Meet son school board ask million meeting.', 'timestamp': datetime.datetime(1974, 8, 10, 19, 9, 42, 837000)}}\n",
      "{'user': 'Joshua Murray', 'user_email': 'snyderkathy@example.net', 'user_age': 42, 'comment': {'text': 'Random text Clearly least civil during as. Executive land fine success every edge individual. Receive shake five audience ability.\\nForm perhaps card possible. Indeed quite happen choose.', 'timestamp': datetime.datetime(2018, 2, 17, 15, 44, 58, 717000)}}\n",
      "{'user': 'Zachary King', 'user_email': 'sarabright@example.org', 'user_age': 41, 'comment': {'text': 'Random text Standard American decision owner discussion music. Phone level fall weight.\\nManage always look option. Suggest child light move. I hair human power however stand.', 'timestamp': datetime.datetime(2017, 6, 2, 3, 15, 59, 612000)}}\n",
      "{'user': 'Catherine Rios', 'user_email': 'hansonkaren@example.net', 'user_age': 53, 'comment': {'text': 'Random text Clearly account would kind hundred we kind. Control fast game this. Sport happy discover stand himself beyond response PM.', 'timestamp': datetime.datetime(1976, 2, 23, 6, 56, 0, 268000)}}\n",
      "{'user': 'Jon Rodriguez', 'user_email': 'sarabright@example.org', 'user_age': 44, 'comment': {'text': 'Random text Say middle treat wide century. Father stop affect join often husband.\\nWithout a reduce wide.\\nCandidate future education form remember. That and room ball.', 'timestamp': datetime.datetime(2010, 7, 24, 2, 37, 36, 128000)}}\n",
      "{'user': 'Kristi Cooley', 'user_email': 'yrangel@example.net', 'user_age': 42, 'comment': {'text': 'Random text Mention ask type control area local. Program hear itself price force. Study involve yes.', 'timestamp': datetime.datetime(2016, 12, 31, 9, 42, 24, 798000)}}\n",
      "{'user': 'Lucas Rogers', 'user_email': 'snyderkathy@example.net', 'user_age': 42, 'comment': {'text': 'Random text Suffer second number whether really behind modern. Smile modern finally number student Democrat discuss.\\nOption next throw bad clearly. Entire sing senior than green.', 'timestamp': datetime.datetime(2010, 3, 31, 5, 38, 48, 688000)}}\n",
      "{'user': 'Michael Smith', 'user_email': 'yrangel@example.net', 'user_age': 41, 'comment': {'text': 'Random text Culture step likely indeed. Stage either fast color economy wonder affect. Beat everything understand opportunity question.\\nThus front key eight fund.', 'timestamp': datetime.datetime(2003, 2, 4, 6, 23, 23, 510000)}}\n",
      "{'user': 'Robert Wood', 'user_email': 'hhawkins@example.net', 'user_age': 51, 'comment': {'text': 'Random text Republican this us beat threat number international particularly. North ever even move forward than size window.', 'timestamp': datetime.datetime(2007, 12, 9, 5, 39, 6, 326000)}}\n",
      "{'user': 'Erin Smith', 'user_email': 'reneeterry@example.org', 'user_age': 46, 'comment': {'text': 'Random text Listen exactly figure voice. Stay use never American production apply. Important trip sister identify myself.', 'timestamp': datetime.datetime(1974, 12, 29, 16, 32, 57, 540000)}}\n",
      "{'user': 'Debra Smith DDS', 'user_email': 'thompsonkristine@example.net', 'user_age': 53, 'comment': {'text': 'Random text Light camera show surface future interest.\\nThreat mother service candidate interest. Budget offer kind go often.\\nBorn role machine single many.', 'timestamp': datetime.datetime(2012, 9, 10, 21, 48, 4, 948000)}}\n",
      "{'user': 'Margaret Flores', 'user_email': 'robertrobbins@example.org', 'user_age': 53, 'comment': {'text': 'Random text Worker responsibility he song. Bill themselves win choice carry market. Evidence wish car second.\\nDraw ten they know. Product herself education.', 'timestamp': datetime.datetime(2010, 1, 31, 23, 13, 48, 109000)}}\n",
      "{'user': 'Christopher Jenkins', 'user_email': 'amber13@example.net', 'user_age': 44, 'comment': {'text': 'Random text Dream mention help just. Actually detail medical short all. Tough ground support learn cover.\\nExecutive recognize different garden song debate. Kitchen figure dark current forget.', 'timestamp': datetime.datetime(1976, 12, 7, 9, 52, 19, 698000)}}\n"
     ]
    }
   ],
   "source": [
    "# 5. Buscar comentarios publicados por usuarios mayores de 40 años. (Consultas anidadas)\n",
    "query = {\n",
    "    \"comments\": {\n",
    "        \"$elemMatch\": {\n",
    "            \"user_age\": {\"$gt\": 40}\n",
    "        }\n",
    "    }\n",
    "}\n",
    "\n",
    "result = users_collecition.find(query)\n",
    "\n",
    "print(\"Comentarios de usuarios mayores de 40 años:\")\n",
    "for user in result:\n",
    "    for comment in user['comments']:\n",
    "        if comment['user_age'] > 40:\n",
    "            print(comment)\n"
   ]
  },
  {
   "cell_type": "markdown",
   "metadata": {},
   "source": [
    "4. Ordenar y limitar"
   ]
  },
  {
   "cell_type": "code",
   "execution_count": 10,
   "metadata": {},
   "outputs": [
    {
     "name": "stdout",
     "output_type": "stream",
     "text": [
      "Collection(Database(MongoClient(host=['localhost:27017'], document_class=dict, tz_aware=False, connect=True), 'quiz'), \"users.Collection(Database(MongoClient(host=['localhost:27017'], document_class=dict, tz_aware=False, connect=True), 'quiz'), 'users')\")\n"
     ]
    }
   ],
   "source": [
    "# 1. Ordenar todos los usuarios por edad en orden descendente.\n",
    "\n"
   ]
  },
  {
   "cell_type": "code",
   "execution_count": null,
   "metadata": {},
   "outputs": [],
   "source": [
    "# 2. Buscar los 3 usuarios principales con las publicaciones más recientes (en función de la marca de tiem\u0002po)."
   ]
  },
  {
   "cell_type": "code",
   "execution_count": 36,
   "metadata": {},
   "outputs": [
    {
     "name": "stdout",
     "output_type": "stream",
     "text": [
      "Próximos 10 usuarios después de omitir los primeros 5:\n",
      "{'_id': ObjectId('65f109764da40f1600c11cbe'), 'user': 'Kayla Hill', 'user_email': 'snyderkathy@example.net', 'user_age': 29, 'post': {'title': 'Random title for Kayla Hill', 'content': 'Random content for Kayla Hill Successful lead sound remember since how. Religious actually speak stay.\\nCoach finally concern can. Traditional few professor establish.\\nStreet whose court shoulder. Gun draw can cost rock much some.', 'timestamp': datetime.datetime(2019, 8, 19, 12, 34, 25, 821000)}, 'comments': [{'user': 'Jon Rodriguez', 'user_email': 'joseph02@example.com', 'user_age': 40, 'comment': {'text': 'Random text Officer concern explain. Enough subject financial over four executive development. System produce forward within. Seek tell five within cover ability force.', 'timestamp': datetime.datetime(2003, 9, 15, 20, 34, 59, 884000)}}, {'user': 'Michael Smith', 'user_email': 'claytoncody@example.org', 'user_age': 32, 'comment': {'text': 'Random text Yourself society produce sister less car experience. Half camera still. Spring important enjoy cultural today thus give science. Across teach onto describe authority purpose.', 'timestamp': datetime.datetime(2020, 8, 5, 22, 18, 20, 577000)}}, {'user': 'Michael Smith', 'user_email': 'robertrobbins@example.org', 'user_age': 41, 'comment': {'text': 'Random text Room suddenly top who performance number rise. Rate buy major wide son director ahead. Give their eight pull. Director actually open travel job rich.', 'timestamp': datetime.datetime(1989, 9, 22, 14, 8, 52, 198000)}}]}\n",
      "{'_id': ObjectId('65f109764da40f1600c11cbf'), 'user': 'Kayla Hill', 'user_email': 'snyderkathy@example.net', 'user_age': 29, 'post': {'title': 'Random title for Kayla Hill', 'content': 'Random content for Kayla Hill Car participant pattern level spend heart. Represent usually street.\\nCost nice case. Song reality thank us.\\nRecent financial occur across visit. Six detail add. Oil its against make article.', 'timestamp': datetime.datetime(2011, 2, 14, 5, 7, 40, 398000)}, 'comments': [{'user': 'Erin Smith', 'user_email': 'alexanderwheeler@example.org', 'user_age': 53, 'comment': {'text': 'Random text Thought test home value. Development TV decade attack pretty mission try. Western word no compare into.\\nJust try movie teach former. Work Republican value guy good baby whether.', 'timestamp': datetime.datetime(1976, 4, 12, 11, 29, 22, 364000)}}, {'user': 'Kayla Hill', 'user_email': 'ginawood@example.org', 'user_age': 42, 'comment': {'text': 'Random text Expect organization operation if moment interest building. Successful pull goal collection. Meet son school board ask million meeting.', 'timestamp': datetime.datetime(1974, 8, 10, 19, 9, 42, 837000)}}, {'user': 'Joshua Murray', 'user_email': 'snyderkathy@example.net', 'user_age': 42, 'comment': {'text': 'Random text Clearly least civil during as. Executive land fine success every edge individual. Receive shake five audience ability.\\nForm perhaps card possible. Indeed quite happen choose.', 'timestamp': datetime.datetime(2018, 2, 17, 15, 44, 58, 717000)}}, {'user': 'Joshua Murray', 'user_email': 'megan76@example.com', 'user_age': 27, 'comment': {'text': 'Random text Care government land firm. Represent whole suggest brother expert real.', 'timestamp': datetime.datetime(1990, 6, 8, 23, 56, 28, 29000)}}]}\n",
      "{'_id': ObjectId('65f109764da40f1600c11cc0'), 'user': 'Kayla Hill', 'user_email': 'snyderkathy@example.net', 'user_age': 29, 'post': {'title': 'Random title for Kayla Hill', 'content': 'Random content for Kayla Hill Remember partner reveal today. Quickly wind finish teacher staff knowledge learn pattern. Tend test water never stock degree.\\nOwn near middle watch mouth. Up involve court draw responsibility.', 'timestamp': datetime.datetime(2023, 11, 6, 1, 43, 8, 813000)}, 'comments': []}\n",
      "{'_id': ObjectId('65f109764da40f1600c11cc1'), 'user': 'Kayla Hill', 'user_email': 'snyderkathy@example.net', 'user_age': 29, 'post': {'title': 'Random title for Kayla Hill', 'content': 'Random content for Kayla Hill Threat couple upon it most this movie him. Kind majority race during kid live state walk. Or kid necessary far inside reduce.', 'timestamp': datetime.datetime(2012, 3, 22, 6, 1, 6, 708000)}, 'comments': []}\n",
      "{'_id': ObjectId('65f109764da40f1600c11cc2'), 'user': 'Kayla Hill', 'user_email': 'snyderkathy@example.net', 'user_age': 29, 'post': {'title': 'Random title for Kayla Hill', 'content': 'Random content for Kayla Hill Could party change especially responsibility sister. Reality she more far usually above power. Think far either manage and expert cold.', 'timestamp': datetime.datetime(1979, 6, 23, 7, 50, 10, 929000)}, 'comments': []}\n",
      "{'_id': ObjectId('65f109764da40f1600c11cc3'), 'user': 'Kayla Hill', 'user_email': 'snyderkathy@example.net', 'user_age': 29, 'post': {'title': 'Random title for Kayla Hill', 'content': 'Random content for Kayla Hill Exist story remain quickly will president.\\nStore summer glass fight including cold purpose. Conference little four challenge school PM. Sense skin effort impact identify himself.', 'timestamp': datetime.datetime(2010, 10, 9, 5, 7, 59, 358000)}, 'comments': [{'user': 'Richard Bonilla', 'user_email': 'thompsonkristine@example.net', 'user_age': 28, 'comment': {'text': 'Random text Yard total space listen. Daughter positive right window determine skin between. Size the write wind drive under one.\\nAir design amount worker only election.', 'timestamp': datetime.datetime(1982, 11, 16, 3, 33, 36)}}, {'user': 'Zachary King', 'user_email': 'sarabright@example.org', 'user_age': 41, 'comment': {'text': 'Random text Standard American decision owner discussion music. Phone level fall weight.\\nManage always look option. Suggest child light move. I hair human power however stand.', 'timestamp': datetime.datetime(2017, 6, 2, 3, 15, 59, 612000)}}, {'user': 'Michael Smith', 'user_email': 'tmartin@example.org', 'user_age': 39, 'comment': {'text': 'Random text Wide hear these spring fear. Base nothing American speech event everyone argue protect.\\nProbably brother design another assume. Would control picture prevent parent. Fly son she manage.', 'timestamp': datetime.datetime(1974, 9, 18, 1, 3, 14, 918000)}}]}\n",
      "{'_id': ObjectId('65f109764da40f1600c11cc4'), 'user': 'Kayla Hill', 'user_email': 'snyderkathy@example.net', 'user_age': 29, 'post': {'title': 'Random title for Kayla Hill', 'content': 'Random content for Kayla Hill Strategy likely decade machine seek case full. Four growth defense add.\\nBenefit fear force five soon realize. Method especially buy feel fill enough everybody.', 'timestamp': datetime.datetime(1993, 5, 19, 4, 27, 43, 86000)}, 'comments': [{'user': 'Catherine Rios', 'user_email': 'hansonkaren@example.net', 'user_age': 53, 'comment': {'text': 'Random text Clearly account would kind hundred we kind. Control fast game this. Sport happy discover stand himself beyond response PM.', 'timestamp': datetime.datetime(1976, 2, 23, 6, 56, 0, 268000)}}, {'user': 'Gary Best', 'user_email': 'megan76@example.com', 'user_age': 28, 'comment': {'text': 'Random text Air community tonight a. Research inside mind yes game theory in us.\\nPeople city country well training figure generation. Require second Mr.', 'timestamp': datetime.datetime(1996, 7, 1, 21, 30, 38, 532000)}}, {'user': 'Michael Carr', 'user_email': 'kmorrison@example.com', 'user_age': 37, 'comment': {'text': 'Random text President notice media a prepare act student. Risk organization activity protect mission.\\nEnjoy mission economy air. Pull feeling true tend. Second hit daughter contain without behavior.', 'timestamp': datetime.datetime(1983, 8, 24, 3, 39, 12, 204000)}}, {'user': 'Gary Best', 'user_email': 'megan76@example.com', 'user_age': 21, 'comment': {'text': 'Random text Wish style management them night person. Wide alone sort hour pass born listen.', 'timestamp': datetime.datetime(2021, 4, 14, 12, 33, 19, 398000)}}]}\n",
      "{'_id': ObjectId('65f109764da40f1600c11cc5'), 'user': 'Kayla Hill', 'user_email': 'snyderkathy@example.net', 'user_age': 29, 'post': {'title': 'Random title for Kayla Hill', 'content': 'Random content for Kayla Hill Herself can within save night young. Play wait gas these certain citizen tend. Number receive nearly experience.', 'timestamp': datetime.datetime(1970, 3, 17, 11, 16, 41, 270000)}, 'comments': [{'user': 'Travis Nicholson', 'user_email': 'lisapacheco@example.org', 'user_age': 34, 'comment': {'text': 'Random text Together main four natural nearly. They thought message I while defense. Might no society anyone view.', 'timestamp': datetime.datetime(2016, 6, 15, 8, 55, 55, 42000)}}, {'user': 'Jon Rodriguez', 'user_email': 'sarabright@example.org', 'user_age': 44, 'comment': {'text': 'Random text Say middle treat wide century. Father stop affect join often husband.\\nWithout a reduce wide.\\nCandidate future education form remember. That and room ball.', 'timestamp': datetime.datetime(2010, 7, 24, 2, 37, 36, 128000)}}]}\n",
      "{'_id': ObjectId('65f109764da40f1600c11cc6'), 'user': 'Kayla Hill', 'user_email': 'snyderkathy@example.net', 'user_age': 29, 'post': {'title': 'Random title for Kayla Hill', 'content': 'Random content for Kayla Hill Fast trial work note. Likely future marriage through. Imagine the protect way member factor use.\\nThem art wide free only career. Rich occur middle sport unit show.', 'timestamp': datetime.datetime(2024, 1, 16, 18, 42, 36, 866000)}, 'comments': [{'user': 'Kristi Cooley', 'user_email': 'yrangel@example.net', 'user_age': 42, 'comment': {'text': 'Random text Mention ask type control area local. Program hear itself price force. Study involve yes.', 'timestamp': datetime.datetime(2016, 12, 31, 9, 42, 24, 798000)}}, {'user': 'Kristi Cooley', 'user_email': 'amber13@example.net', 'user_age': 30, 'comment': {'text': 'Random text Behind south collection study business. During foreign camera interest. Almost truth test nature end. Just source security population high last to.', 'timestamp': datetime.datetime(1997, 4, 6, 1, 37, 29, 739000)}}, {'user': 'Lucas Rogers', 'user_email': 'snyderkathy@example.net', 'user_age': 42, 'comment': {'text': 'Random text Suffer second number whether really behind modern. Smile modern finally number student Democrat discuss.\\nOption next throw bad clearly. Entire sing senior than green.', 'timestamp': datetime.datetime(2010, 3, 31, 5, 38, 48, 688000)}}, {'user': 'Lindsay Thornton', 'user_email': 'harveybrenda@example.org', 'user_age': 28, 'comment': {'text': 'Random text First data decide big west. One later section analysis impact heart political certain. Keep air campaign easy four natural. Base bank window bed when career research.', 'timestamp': datetime.datetime(1983, 5, 18, 14, 37, 34, 349000)}}]}\n",
      "{'_id': ObjectId('65f109764da40f1600c11cc7'), 'user': 'Kayla Hill', 'user_email': 'snyderkathy@example.net', 'user_age': 29, 'post': {'title': 'Random title for Kayla Hill', 'content': 'Random content for Kayla Hill Let situation simple civil less traditional early. Fill tax dinner way pretty. Happy amount article figure body interview.\\nDifficult education here baby end me detail other. Professor feeling town.', 'timestamp': datetime.datetime(1993, 8, 4, 1, 39, 43, 122000)}, 'comments': [{'user': 'Michael Smith', 'user_email': 'yrangel@example.net', 'user_age': 41, 'comment': {'text': 'Random text Culture step likely indeed. Stage either fast color economy wonder affect. Beat everything understand opportunity question.\\nThus front key eight fund.', 'timestamp': datetime.datetime(2003, 2, 4, 6, 23, 23, 510000)}}]}\n"
     ]
    }
   ],
   "source": [
    "# 3. Omitir los primeros 5 resultados y recuperar los próximos 10 usuarios.\n",
    "result = users_collecition.find().skip(5).limit(10)\n",
    "print(\"Próximos 10 usuarios después de omitir los primeros 5:\")\n",
    "for user in result:\n",
    "    print(user)\n"
   ]
  },
  {
   "cell_type": "markdown",
   "metadata": {},
   "source": [
    "5. Marco de agregación"
   ]
  },
  {
   "cell_type": "code",
   "execution_count": null,
   "metadata": {},
   "outputs": [],
   "source": [
    "# 1. Utilizar el pipeline de agregación para calcular el número total de usuarios"
   ]
  },
  {
   "cell_type": "code",
   "execution_count": 37,
   "metadata": {},
   "outputs": [
    {
     "name": "stdout",
     "output_type": "stream",
     "text": [
      "Usuario con el contenido de publicación más largo:\n"
     ]
    }
   ],
   "source": [
    "# 2. Encontrar al usuario con el contenido de publicación más largo (en función del número de caracteres).\n",
    "pipeline = [\n",
    "    {\"$unwind\": \"$posts\"},\n",
    "    {\"$group\": {\n",
    "        \"_id\": \"$user\",\n",
    "        \"max_post_length\": {\"$max\": {\"$strLenCP\": \"$posts.content\"}}\n",
    "    }}, \n",
    "    {\"$sort\": {\"max_post_length\": -1}},\n",
    "    {\"$limit\": 1} \n",
    "]\n",
    "result = users_collecition.aggregate(pipeline)\n",
    "print(\"Usuario con el contenido de publicación más largo:\")\n",
    "for user in result:\n",
    "    print(\"prueba\")\n",
    "\n",
    "\n",
    "\n"
   ]
  },
  {
   "cell_type": "code",
   "execution_count": null,
   "metadata": {},
   "outputs": [],
   "source": [
    "# 3. Agrupar a los usuarios por edad y contar la cantidad de usuarios en cada grupo de edad."
   ]
  },
  {
   "cell_type": "code",
   "execution_count": null,
   "metadata": {},
   "outputs": [],
   "source": [
    "# 4. Calcular la longitud promedio de los comentarios en todos los comentarios."
   ]
  },
  {
   "cell_type": "code",
   "execution_count": null,
   "metadata": {},
   "outputs": [],
   "source": [
    "# 5. Cambiar la forma como se presentan los datos, de tal forma que cada usuario tenga la lista de todos\n",
    "# los posts asociados a él. No se deben agregar el detalle de los comentarios, solo un nuevo campo con\n",
    "# el total de comentarios."
   ]
  },
  {
   "cell_type": "markdown",
   "metadata": {},
   "source": [
    "6. Actualización y eliminación con operadores"
   ]
  },
  {
   "cell_type": "code",
   "execution_count": null,
   "metadata": {},
   "outputs": [],
   "source": [
    "# 1. Incrementar la edad de todos los usuarios en 1.\n"
   ]
  },
  {
   "cell_type": "code",
   "execution_count": null,
   "metadata": {},
   "outputs": [],
   "source": [
    "# 2. Establecer el campo ”contenido” de una publicación específica en una cadena vacía"
   ]
  },
  {
   "cell_type": "code",
   "execution_count": 39,
   "metadata": {},
   "outputs": [
    {
     "name": "stdout",
     "output_type": "stream",
     "text": [
      "Número de comentarios eliminados: 9\n"
     ]
    }
   ],
   "source": [
    "# 3. Eliminar todos los comentarios de la publicación de un usuario\n",
    "usuario = \"Joann Bowen\"  \n",
    "titulo_publicacion = \"Random title for Joann Bowen\"  \n",
    "query = {\n",
    "    \"user\": usuario, \n",
    "    \"post.title\": titulo_publicacion  \n",
    "}\n",
    "\n",
    "update_query = {\n",
    "    \"$set\": {\n",
    "        \"comments\": []  \n",
    "    }\n",
    "}\n",
    "result = users_collecition.update_many(query, update_query)\n",
    "print(\"Número de comentarios eliminados:\", result.modified_count)\n"
   ]
  },
  {
   "cell_type": "code",
   "execution_count": 40,
   "metadata": {},
   "outputs": [
    {
     "name": "stdout",
     "output_type": "stream",
     "text": [
      "Número de usuarios eliminados: 15\n"
     ]
    }
   ],
   "source": [
    "# 4. Eliminar todos los usuarios con direcciones de correo electrónico que terminen en ”@example.org”.\n",
    "query = {\n",
    "    \"user_email\": {\"$regex\": r\"@example\\.org$\"} \n",
    "}\n",
    "\n",
    "result = users_collecition.delete_many(query)\n",
    "print(\"Número de usuarios eliminados:\", result.deleted_count)\n",
    "                                                                                    #Elimina terminados en @example.org, no @example.com ni @example.net\n"
   ]
  },
  {
   "cell_type": "markdown",
   "metadata": {},
   "source": [
    "7. Indexación y optimización avanzadas"
   ]
  },
  {
   "cell_type": "code",
   "execution_count": null,
   "metadata": {},
   "outputs": [],
   "source": [
    "# 1. Crear un índice en el campo ”user_email” para búsquedas de correo electrónico más rápidas."
   ]
  },
  {
   "cell_type": "code",
   "execution_count": null,
   "metadata": {},
   "outputs": [],
   "source": [
    "# 2. Explicar el plan de consulta para encontrar usuarios con edad mayor a 30\n",
    "\n",
    "\n",
    "\n",
    "#\n",
    "#La consulta para encontrar usuarios con edad mayor a 30 en sintaxis de MongoDB puede verse de la siguiente manera:\n",
    "#                                                   query = {\"user_age\": {\"$gt\": 30}}\n",
    "#\n",
    "\n",
    "\n",
    "#Plan de consulta:\n",
    "#Cuando ejecutamos esta consulta MongoDB utilizará el índice creado en el campo \"user_age\" para optimizar la búsqueda, lo que mejora su rendimiento y permite obtener resultados de forma eficiente\n",
    "#   MongoDB buscará en el índice de user_age los valores que son mayores a 30.\n",
    "#   Después usará estos valores del índice para acceder directamente a los documentos que satisfacen la condición de la consulta.\n",
    "#   Finalmente, MongoDB devolverá los documentos encontrados que cumplan con el criterio de búsqueda.\n",
    "\n"
   ]
  },
  {
   "cell_type": "markdown",
   "metadata": {},
   "source": []
  },
  {
   "cell_type": "code",
   "execution_count": null,
   "metadata": {},
   "outputs": [],
   "source": [
    "#3. Discutir las ventajas y desventajas de almacenar comentarios dentro del documento de usuario.\n"
   ]
  }
 ],
 "metadata": {
  "kernelspec": {
   "display_name": ".venv",
   "language": "python",
   "name": "python3"
  },
  "language_info": {
   "codemirror_mode": {
    "name": "ipython",
    "version": 3
   },
   "file_extension": ".py",
   "mimetype": "text/x-python",
   "name": "python",
   "nbconvert_exporter": "python",
   "pygments_lexer": "ipython3",
   "version": "3.12.0"
  }
 },
 "nbformat": 4,
 "nbformat_minor": 2
}
